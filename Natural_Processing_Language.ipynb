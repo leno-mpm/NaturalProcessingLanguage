{
  "nbformat": 4,
  "nbformat_minor": 0,
  "metadata": {
    "colab": {
      "provenance": [],
      "toc_visible": true
    },
    "kernelspec": {
      "name": "python3",
      "display_name": "Python 3"
    },
    "language_info": {
      "name": "python"
    }
  },
  "cells": [
    {
      "cell_type": "markdown",
      "source": [
        "# Natural Processing Languague\n",
        "\n",
        "\n",
        "```Dataset: EmoEvent ```\n",
        "\n",
        "EmoEvent es un corpus de tweets en español y inglés diseñado específicamente para la tarea de clasificación de emociones en el contexto de eventos de Twitter. A diferencia de conjuntos de datos genéricos, EmoEvent se caracteriza porque cada tweet está asociado a un evento particular (ej: \"GameOfThrones\", \"NotreDame\", \"Venezuela\"), lo que añade una capa de complejidad y contexto crucial para el análisis.\n"
      ],
      "metadata": {
        "id": "GjKy-EKo-fju"
      }
    },
    {
      "cell_type": "markdown",
      "source": [
        "**¿Qué encontraremos en este dataset?**\n",
        "\n",
        "El dataset está compuesto por 8,409 tweets en español, anotados manualmente con dos niveles de información:\n",
        "\n",
        "***Emoción Principal (emotion):*** La categoría emocional principal del tweet. El modelo deberá aprender a predecir una de las siguientes 8 clases:\n",
        "\n",
        "Ira (anger)\n",
        "\n",
        "Tristeza (sadness)\n",
        "\n",
        "Alegría (joy)\n",
        "\n",
        "Asco (disgust)\n",
        "\n",
        "Miedo (fear)\n",
        "\n",
        "Sorpresa (surprise)\n",
        "\n",
        "Ofensivo (offensive)\n",
        "\n",
        "Otros (others) - Para tweets que no expresan una emoción clara de las anteriores.\n",
        "\n",
        "***Etiqueta de Ofensividad (offensive):*** Una clasificación binaria que indica si el contenido del tweet es considerado ofensivo (OFF) o no ofensivo (NO). Esta etiqueta está fuertemente correlacionada con la emoción de \"ira\" (anger), pero no es exclusiva de ella."
      ],
      "metadata": {
        "id": "OXMWZzJTPI8n"
      }
    },
    {
      "cell_type": "markdown",
      "source": [
        "## 1. Preparación del entorno"
      ],
      "metadata": {
        "id": "P9ykjOEJ-wD8"
      }
    },
    {
      "cell_type": "code",
      "execution_count": 4,
      "metadata": {
        "id": "x-2U6Bl0-YVN"
      },
      "outputs": [],
      "source": [
        "!pip install transformers torch torchvision torchaudio --quiet\n",
        "!pip install seaborn --quiet\n",
        "import pandas as pd\n",
        "import numpy as np\n",
        "import matplotlib.pyplot as plt\n",
        "import seaborn as sns\n",
        "from sklearn.model_selection import train_test_split # Para evaluación"
      ]
    },
    {
      "cell_type": "markdown",
      "source": [
        "## 2. Carga del dataset"
      ],
      "metadata": {
        "id": "rEZ6mdyH-8mf"
      }
    },
    {
      "cell_type": "code",
      "source": [
        "!git clone https://github.com/fmplaza/EmoEvent.git # Descargar del dataset desde GitHub"
      ],
      "metadata": {
        "colab": {
          "base_uri": "https://localhost:8080/"
        },
        "id": "SAoqJkOK_Ogd",
        "outputId": "7a2cd441-fcc7-4c8f-fcec-066e6e13e21d"
      },
      "execution_count": 5,
      "outputs": [
        {
          "output_type": "stream",
          "name": "stdout",
          "text": [
            "fatal: destination path 'EmoEvent' already exists and is not an empty directory.\n"
          ]
        }
      ]
    },
    {
      "cell_type": "code",
      "source": [
        "!find EmoEvent -type f -name \"*.csv\"\n"
      ],
      "metadata": {
        "colab": {
          "base_uri": "https://localhost:8080/"
        },
        "id": "WOFqY6VqAPOq",
        "outputId": "85aaf635-e0d3-4239-c5e7-f206cd84d2d3"
      },
      "execution_count": 6,
      "outputs": [
        {
          "output_type": "stream",
          "name": "stdout",
          "text": [
            "EmoEvent/emoevent_es.csv\n",
            "EmoEvent/emoevent_en.csv\n"
          ]
        }
      ]
    },
    {
      "cell_type": "code",
      "source": [
        "df_train = pd.read_csv(\"EmoEvent/splits/es/train.tsv\", sep=\"\\t\")\n",
        "df_dev   = pd.read_csv(\"EmoEvent/splits/es/dev.tsv\", sep=\"\\t\")\n",
        "df_test  = pd.read_csv(\"EmoEvent/splits/es/test.tsv\", sep=\"\\t\")\n",
        "\n",
        "print(\"Tamaño train:\", df_train.shape)\n",
        "print(\"Tamaño dev:\", df_dev.shape)\n",
        "print(\"Tamaño test:\", df_test.shape)\n",
        "\n",
        "print(\"\\nColumnas disponibles:\", df_train.columns.tolist())\n",
        "df_train.head()"
      ],
      "metadata": {
        "colab": {
          "base_uri": "https://localhost:8080/",
          "height": 297
        },
        "id": "fK9Lfh7_AWWl",
        "outputId": "dfc1b50b-5318-42c2-eb85-09c2493e48db"
      },
      "execution_count": 7,
      "outputs": [
        {
          "output_type": "stream",
          "name": "stdout",
          "text": [
            "Tamaño train: (5723, 5)\n",
            "Tamaño dev: (844, 5)\n",
            "Tamaño test: (1656, 5)\n",
            "\n",
            "Columnas disponibles: ['id', 'event', 'tweet', 'offensive', 'emotion']\n"
          ]
        },
        {
          "output_type": "execute_result",
          "data": {
            "text/plain": [
              "                                     id          event  \\\n",
              "0  a0c1a858-a9b8-4cb1-8a81-1602736ff5b8  GameOfThrones   \n",
              "1  9b272817-a231-4f68-bdf4-3350d4919330      Venezuela   \n",
              "2  4bd5b1e5-4b74-440a-82f4-c2567a241011      NotreDame   \n",
              "3  0bb9d7c9-d781-4684-890e-a94bfb50acc0      NotreDame   \n",
              "4  88749098-d539-4500-9209-0bbfae2b109c  GameOfThrones   \n",
              "\n",
              "                                               tweet offensive  emotion  \n",
              "0  La Gran Guerra de #JuegoDeTronos nos ha dejado...        NO   others  \n",
              "1  El golpe de Estado en #Venezuela está más lejo...        NO   others  \n",
              "2  No tengo una foto en la catedral de #NotreDame...        NO  sadness  \n",
              "3  #NotreDame nunca llegue a visitar tan grandios...        NO  sadness  \n",
              "4      A tomar por culo mi crush 😭😭😭😭😭#JuegoDeTronos       OFF  sadness  "
            ],
            "text/html": [
              "\n",
              "  <div id=\"df-dda81a49-52db-45a1-96a2-e3b5bf9c6320\" class=\"colab-df-container\">\n",
              "    <div>\n",
              "<style scoped>\n",
              "    .dataframe tbody tr th:only-of-type {\n",
              "        vertical-align: middle;\n",
              "    }\n",
              "\n",
              "    .dataframe tbody tr th {\n",
              "        vertical-align: top;\n",
              "    }\n",
              "\n",
              "    .dataframe thead th {\n",
              "        text-align: right;\n",
              "    }\n",
              "</style>\n",
              "<table border=\"1\" class=\"dataframe\">\n",
              "  <thead>\n",
              "    <tr style=\"text-align: right;\">\n",
              "      <th></th>\n",
              "      <th>id</th>\n",
              "      <th>event</th>\n",
              "      <th>tweet</th>\n",
              "      <th>offensive</th>\n",
              "      <th>emotion</th>\n",
              "    </tr>\n",
              "  </thead>\n",
              "  <tbody>\n",
              "    <tr>\n",
              "      <th>0</th>\n",
              "      <td>a0c1a858-a9b8-4cb1-8a81-1602736ff5b8</td>\n",
              "      <td>GameOfThrones</td>\n",
              "      <td>La Gran Guerra de #JuegoDeTronos nos ha dejado...</td>\n",
              "      <td>NO</td>\n",
              "      <td>others</td>\n",
              "    </tr>\n",
              "    <tr>\n",
              "      <th>1</th>\n",
              "      <td>9b272817-a231-4f68-bdf4-3350d4919330</td>\n",
              "      <td>Venezuela</td>\n",
              "      <td>El golpe de Estado en #Venezuela está más lejo...</td>\n",
              "      <td>NO</td>\n",
              "      <td>others</td>\n",
              "    </tr>\n",
              "    <tr>\n",
              "      <th>2</th>\n",
              "      <td>4bd5b1e5-4b74-440a-82f4-c2567a241011</td>\n",
              "      <td>NotreDame</td>\n",
              "      <td>No tengo una foto en la catedral de #NotreDame...</td>\n",
              "      <td>NO</td>\n",
              "      <td>sadness</td>\n",
              "    </tr>\n",
              "    <tr>\n",
              "      <th>3</th>\n",
              "      <td>0bb9d7c9-d781-4684-890e-a94bfb50acc0</td>\n",
              "      <td>NotreDame</td>\n",
              "      <td>#NotreDame nunca llegue a visitar tan grandios...</td>\n",
              "      <td>NO</td>\n",
              "      <td>sadness</td>\n",
              "    </tr>\n",
              "    <tr>\n",
              "      <th>4</th>\n",
              "      <td>88749098-d539-4500-9209-0bbfae2b109c</td>\n",
              "      <td>GameOfThrones</td>\n",
              "      <td>A tomar por culo mi crush 😭😭😭😭😭#JuegoDeTronos</td>\n",
              "      <td>OFF</td>\n",
              "      <td>sadness</td>\n",
              "    </tr>\n",
              "  </tbody>\n",
              "</table>\n",
              "</div>\n",
              "    <div class=\"colab-df-buttons\">\n",
              "\n",
              "  <div class=\"colab-df-container\">\n",
              "    <button class=\"colab-df-convert\" onclick=\"convertToInteractive('df-dda81a49-52db-45a1-96a2-e3b5bf9c6320')\"\n",
              "            title=\"Convert this dataframe to an interactive table.\"\n",
              "            style=\"display:none;\">\n",
              "\n",
              "  <svg xmlns=\"http://www.w3.org/2000/svg\" height=\"24px\" viewBox=\"0 -960 960 960\">\n",
              "    <path d=\"M120-120v-720h720v720H120Zm60-500h600v-160H180v160Zm220 220h160v-160H400v160Zm0 220h160v-160H400v160ZM180-400h160v-160H180v160Zm440 0h160v-160H620v160ZM180-180h160v-160H180v160Zm440 0h160v-160H620v160Z\"/>\n",
              "  </svg>\n",
              "    </button>\n",
              "\n",
              "  <style>\n",
              "    .colab-df-container {\n",
              "      display:flex;\n",
              "      gap: 12px;\n",
              "    }\n",
              "\n",
              "    .colab-df-convert {\n",
              "      background-color: #E8F0FE;\n",
              "      border: none;\n",
              "      border-radius: 50%;\n",
              "      cursor: pointer;\n",
              "      display: none;\n",
              "      fill: #1967D2;\n",
              "      height: 32px;\n",
              "      padding: 0 0 0 0;\n",
              "      width: 32px;\n",
              "    }\n",
              "\n",
              "    .colab-df-convert:hover {\n",
              "      background-color: #E2EBFA;\n",
              "      box-shadow: 0px 1px 2px rgba(60, 64, 67, 0.3), 0px 1px 3px 1px rgba(60, 64, 67, 0.15);\n",
              "      fill: #174EA6;\n",
              "    }\n",
              "\n",
              "    .colab-df-buttons div {\n",
              "      margin-bottom: 4px;\n",
              "    }\n",
              "\n",
              "    [theme=dark] .colab-df-convert {\n",
              "      background-color: #3B4455;\n",
              "      fill: #D2E3FC;\n",
              "    }\n",
              "\n",
              "    [theme=dark] .colab-df-convert:hover {\n",
              "      background-color: #434B5C;\n",
              "      box-shadow: 0px 1px 3px 1px rgba(0, 0, 0, 0.15);\n",
              "      filter: drop-shadow(0px 1px 2px rgba(0, 0, 0, 0.3));\n",
              "      fill: #FFFFFF;\n",
              "    }\n",
              "  </style>\n",
              "\n",
              "    <script>\n",
              "      const buttonEl =\n",
              "        document.querySelector('#df-dda81a49-52db-45a1-96a2-e3b5bf9c6320 button.colab-df-convert');\n",
              "      buttonEl.style.display =\n",
              "        google.colab.kernel.accessAllowed ? 'block' : 'none';\n",
              "\n",
              "      async function convertToInteractive(key) {\n",
              "        const element = document.querySelector('#df-dda81a49-52db-45a1-96a2-e3b5bf9c6320');\n",
              "        const dataTable =\n",
              "          await google.colab.kernel.invokeFunction('convertToInteractive',\n",
              "                                                    [key], {});\n",
              "        if (!dataTable) return;\n",
              "\n",
              "        const docLinkHtml = 'Like what you see? Visit the ' +\n",
              "          '<a target=\"_blank\" href=https://colab.research.google.com/notebooks/data_table.ipynb>data table notebook</a>'\n",
              "          + ' to learn more about interactive tables.';\n",
              "        element.innerHTML = '';\n",
              "        dataTable['output_type'] = 'display_data';\n",
              "        await google.colab.output.renderOutput(dataTable, element);\n",
              "        const docLink = document.createElement('div');\n",
              "        docLink.innerHTML = docLinkHtml;\n",
              "        element.appendChild(docLink);\n",
              "      }\n",
              "    </script>\n",
              "  </div>\n",
              "\n",
              "\n",
              "    <div id=\"df-dd8c85b7-4e28-4d52-b1e7-ad2767559cbb\">\n",
              "      <button class=\"colab-df-quickchart\" onclick=\"quickchart('df-dd8c85b7-4e28-4d52-b1e7-ad2767559cbb')\"\n",
              "                title=\"Suggest charts\"\n",
              "                style=\"display:none;\">\n",
              "\n",
              "<svg xmlns=\"http://www.w3.org/2000/svg\" height=\"24px\"viewBox=\"0 0 24 24\"\n",
              "     width=\"24px\">\n",
              "    <g>\n",
              "        <path d=\"M19 3H5c-1.1 0-2 .9-2 2v14c0 1.1.9 2 2 2h14c1.1 0 2-.9 2-2V5c0-1.1-.9-2-2-2zM9 17H7v-7h2v7zm4 0h-2V7h2v10zm4 0h-2v-4h2v4z\"/>\n",
              "    </g>\n",
              "</svg>\n",
              "      </button>\n",
              "\n",
              "<style>\n",
              "  .colab-df-quickchart {\n",
              "      --bg-color: #E8F0FE;\n",
              "      --fill-color: #1967D2;\n",
              "      --hover-bg-color: #E2EBFA;\n",
              "      --hover-fill-color: #174EA6;\n",
              "      --disabled-fill-color: #AAA;\n",
              "      --disabled-bg-color: #DDD;\n",
              "  }\n",
              "\n",
              "  [theme=dark] .colab-df-quickchart {\n",
              "      --bg-color: #3B4455;\n",
              "      --fill-color: #D2E3FC;\n",
              "      --hover-bg-color: #434B5C;\n",
              "      --hover-fill-color: #FFFFFF;\n",
              "      --disabled-bg-color: #3B4455;\n",
              "      --disabled-fill-color: #666;\n",
              "  }\n",
              "\n",
              "  .colab-df-quickchart {\n",
              "    background-color: var(--bg-color);\n",
              "    border: none;\n",
              "    border-radius: 50%;\n",
              "    cursor: pointer;\n",
              "    display: none;\n",
              "    fill: var(--fill-color);\n",
              "    height: 32px;\n",
              "    padding: 0;\n",
              "    width: 32px;\n",
              "  }\n",
              "\n",
              "  .colab-df-quickchart:hover {\n",
              "    background-color: var(--hover-bg-color);\n",
              "    box-shadow: 0 1px 2px rgba(60, 64, 67, 0.3), 0 1px 3px 1px rgba(60, 64, 67, 0.15);\n",
              "    fill: var(--button-hover-fill-color);\n",
              "  }\n",
              "\n",
              "  .colab-df-quickchart-complete:disabled,\n",
              "  .colab-df-quickchart-complete:disabled:hover {\n",
              "    background-color: var(--disabled-bg-color);\n",
              "    fill: var(--disabled-fill-color);\n",
              "    box-shadow: none;\n",
              "  }\n",
              "\n",
              "  .colab-df-spinner {\n",
              "    border: 2px solid var(--fill-color);\n",
              "    border-color: transparent;\n",
              "    border-bottom-color: var(--fill-color);\n",
              "    animation:\n",
              "      spin 1s steps(1) infinite;\n",
              "  }\n",
              "\n",
              "  @keyframes spin {\n",
              "    0% {\n",
              "      border-color: transparent;\n",
              "      border-bottom-color: var(--fill-color);\n",
              "      border-left-color: var(--fill-color);\n",
              "    }\n",
              "    20% {\n",
              "      border-color: transparent;\n",
              "      border-left-color: var(--fill-color);\n",
              "      border-top-color: var(--fill-color);\n",
              "    }\n",
              "    30% {\n",
              "      border-color: transparent;\n",
              "      border-left-color: var(--fill-color);\n",
              "      border-top-color: var(--fill-color);\n",
              "      border-right-color: var(--fill-color);\n",
              "    }\n",
              "    40% {\n",
              "      border-color: transparent;\n",
              "      border-right-color: var(--fill-color);\n",
              "      border-top-color: var(--fill-color);\n",
              "    }\n",
              "    60% {\n",
              "      border-color: transparent;\n",
              "      border-right-color: var(--fill-color);\n",
              "    }\n",
              "    80% {\n",
              "      border-color: transparent;\n",
              "      border-right-color: var(--fill-color);\n",
              "      border-bottom-color: var(--fill-color);\n",
              "    }\n",
              "    90% {\n",
              "      border-color: transparent;\n",
              "      border-bottom-color: var(--fill-color);\n",
              "    }\n",
              "  }\n",
              "</style>\n",
              "\n",
              "      <script>\n",
              "        async function quickchart(key) {\n",
              "          const quickchartButtonEl =\n",
              "            document.querySelector('#' + key + ' button');\n",
              "          quickchartButtonEl.disabled = true;  // To prevent multiple clicks.\n",
              "          quickchartButtonEl.classList.add('colab-df-spinner');\n",
              "          try {\n",
              "            const charts = await google.colab.kernel.invokeFunction(\n",
              "                'suggestCharts', [key], {});\n",
              "          } catch (error) {\n",
              "            console.error('Error during call to suggestCharts:', error);\n",
              "          }\n",
              "          quickchartButtonEl.classList.remove('colab-df-spinner');\n",
              "          quickchartButtonEl.classList.add('colab-df-quickchart-complete');\n",
              "        }\n",
              "        (() => {\n",
              "          let quickchartButtonEl =\n",
              "            document.querySelector('#df-dd8c85b7-4e28-4d52-b1e7-ad2767559cbb button');\n",
              "          quickchartButtonEl.style.display =\n",
              "            google.colab.kernel.accessAllowed ? 'block' : 'none';\n",
              "        })();\n",
              "      </script>\n",
              "    </div>\n",
              "\n",
              "    </div>\n",
              "  </div>\n"
            ],
            "application/vnd.google.colaboratory.intrinsic+json": {
              "type": "dataframe",
              "variable_name": "df_train",
              "summary": "{\n  \"name\": \"df_train\",\n  \"rows\": 5723,\n  \"fields\": [\n    {\n      \"column\": \"id\",\n      \"properties\": {\n        \"dtype\": \"string\",\n        \"num_unique_values\": 5723,\n        \"samples\": [\n          \"8a75c3f3-47e8-43b6-9243-b5ee9a65b895\",\n          \"14c4d8ec-8f02-4433-8871-bbc4d8d22522\",\n          \"c80d5ea1-d662-49f8-bd2d-195e2c175539\"\n        ],\n        \"semantic_type\": \"\",\n        \"description\": \"\"\n      }\n    },\n    {\n      \"column\": \"event\",\n      \"properties\": {\n        \"dtype\": \"category\",\n        \"num_unique_values\": 8,\n        \"samples\": [\n          \"Venezuela\",\n          \"WorldBookDay\",\n          \"GameOfThrones\"\n        ],\n        \"semantic_type\": \"\",\n        \"description\": \"\"\n      }\n    },\n    {\n      \"column\": \"tweet\",\n      \"properties\": {\n        \"dtype\": \"string\",\n        \"num_unique_values\": 5721,\n        \"samples\": [\n          \"\\u00bfLos centros de estad\\u00edstica se mueven por datos o por presiones? Es que no me queda claro. #Elecciones28A #EleccionesRTVE #ElecccionesGenerales28A https://t.co/DkGNM0Thdu\",\n          \"GOOOOOOOOOOOL de #d10s !!!!! Sufrir sufrir sufrir.... y llega Messi y nos da la vida #ucl #ChampionsLeague #Bar\\u00e7aLFC\",\n          \"Encima he visto esta foto en el instagram de USER y me ha dado un miedo que flipas el futuro de Espa\\u00f1a #28A #ElecccionesGenerales28A #Elecciones28A https://t.co/vGGySsW8xq\"\n        ],\n        \"semantic_type\": \"\",\n        \"description\": \"\"\n      }\n    },\n    {\n      \"column\": \"offensive\",\n      \"properties\": {\n        \"dtype\": \"category\",\n        \"num_unique_values\": 2,\n        \"samples\": [\n          \"OFF\",\n          \"NO\"\n        ],\n        \"semantic_type\": \"\",\n        \"description\": \"\"\n      }\n    },\n    {\n      \"column\": \"emotion\",\n      \"properties\": {\n        \"dtype\": \"category\",\n        \"num_unique_values\": 7,\n        \"samples\": [\n          \"others\",\n          \"sadness\"\n        ],\n        \"semantic_type\": \"\",\n        \"description\": \"\"\n      }\n    }\n  ]\n}"
            }
          },
          "metadata": {},
          "execution_count": 7
        }
      ]
    },
    {
      "cell_type": "code",
      "source": [
        "# ===============================================\n",
        "# Distribución de emociones en entrenamiento\n",
        "# ===============================================\n",
        "import matplotlib.pyplot as plt\n",
        "import seaborn as sns\n",
        "\n",
        "plt.figure(figsize=(10,5))\n",
        "sns.countplot(y=df_train[\"emotion\"], order=df_train[\"emotion\"].value_counts().index, palette=\"viridis\")\n",
        "plt.title(\"Distribución de emociones en el conjunto de entrenamiento\")\n",
        "plt.show()\n"
      ],
      "metadata": {
        "colab": {
          "base_uri": "https://localhost:8080/",
          "height": 599
        },
        "id": "NIAZoYyp_Y2-",
        "outputId": "a993c19a-febe-4bb7-b0fe-ec373e204155"
      },
      "execution_count": 8,
      "outputs": [
        {
          "output_type": "stream",
          "name": "stderr",
          "text": [
            "/tmp/ipython-input-1662017143.py:8: FutureWarning: \n",
            "\n",
            "Passing `palette` without assigning `hue` is deprecated and will be removed in v0.14.0. Assign the `y` variable to `hue` and set `legend=False` for the same effect.\n",
            "\n",
            "  sns.countplot(y=df_train[\"emotion\"], order=df_train[\"emotion\"].value_counts().index, palette=\"viridis\")\n"
          ]
        },
        {
          "output_type": "display_data",
          "data": {
            "text/plain": [
              "<Figure size 1000x500 with 1 Axes>"
            ],
            "image/png": "[encoded data removed]"
          },
          "metadata": {}
        }
      ]
    },
    {
      "cell_type": "markdown",
      "source": [
        "La distribución de emociones en el conjunto de entrenamiento revela un desbalanceo significativo entre clases, donde la categoría `others` aparece como abrumadoramente mayoritaria, mientras que emociones como `surprise`, `disgust` y `fear `están notablemente subrepresentadas. Esta desigualdad plantea un desafío crucial para el modelado, ya que existe el riesgo de que un algoritmo optimice sus predicciones hacia la clase dominante, obteniendo una precisión engañosa mientras falla en reconocer las emociones minoritarias. Por esta razón, la evaluación del modelo no puede basarse en la `accuracy convencional`, sino que debe priorizar el `F1-Score macro`, que pondera por igual el desempeño en todas las clases, junto con un análisis detallado de la matriz de confusión para identificar los patrones de error entre emociones morfológicamente similares. El éxito del modelo dependerá de su capacidad para generalizar beyond de las clases frecuentes y capturar también los matices de las emociones menos representadas.\n",
        "\n"
      ],
      "metadata": {
        "id": "qsQiI1pjP6k1"
      }
    },
    {
      "cell_type": "code",
      "source": [
        "# =====================================\n",
        "# Top 10 eventos más frecuentes\n",
        "# =====================================\n",
        "plt.figure(figsize=(12,6))\n",
        "sns.countplot(y=df_train[\"event\"], order=df_train[\"event\"].value_counts().index[:10], palette=\"mako\")\n",
        "plt.title(\"Top 10 eventos más frecuentes en el dataset (train)\")\n",
        "plt.show()"
      ],
      "metadata": {
        "colab": {
          "base_uri": "https://localhost:8080/",
          "height": 675
        },
        "id": "UgpZgtLH_cbI",
        "outputId": "a25667a2-4883-4d9f-9ecc-a871b2a8f707"
      },
      "execution_count": 9,
      "outputs": [
        {
          "output_type": "stream",
          "name": "stderr",
          "text": [
            "/tmp/ipython-input-567717094.py:5: FutureWarning: \n",
            "\n",
            "Passing `palette` without assigning `hue` is deprecated and will be removed in v0.14.0. Assign the `y` variable to `hue` and set `legend=False` for the same effect.\n",
            "\n",
            "  sns.countplot(y=df_train[\"event\"], order=df_train[\"event\"].value_counts().index[:10], palette=\"mako\")\n"
          ]
        },
        {
          "output_type": "display_data",
          "data": {
            "text/plain": [
              "<Figure size 1200x600 with 1 Axes>"
            ],
            "image/png": "[encoded data removed]"
          },
          "metadata": {}
        }
      ]
    },
    {
      "cell_type": "markdown",
      "source": [
        "El gráfico de los eventos más frecuentes revela una distribución desigual en el conjunto de datos, donde `GameOfThrones` y `NotreDame` emergen como los eventos dominantes con una cantidad significativamente mayor de tweets en comparación con los demás. Esta concentración sugiere que el dataset podría estar sesgado hacia ciertos temas particulares, lo que potencialmente afectaría la generalización del modelo hacia eventos menos representados.\n",
        "\n",
        " La presencia mayoritaria de eventos culturales y deportivos como GameOfThrones, ChampionsLeague y LaLiga, junto con eventos sociales y políticos como Venezuela y SpainElection, indica una diversidad temática pero con una representación dispar. Este desbalanceo podría influir en el desempeño del modelo, ya que tendrá más ejemplos para aprender patrones lingüísticos y emocionales asociados a eventos populares como GameOfThrones, mientras que eventos como GretaThunberg o WorldBookDay contarían con menos datos para un aprendizaje robusto.\n",
        "\n",
        " Por lo tanto, es crucial evaluar el modelo no solo globalmente, sino también desglosando su rendimiento por tipo de evento para identificar posibles sesgos temáticos.\n",
        "\n"
      ],
      "metadata": {
        "id": "xSAJvfxBQ0ND"
      }
    },
    {
      "cell_type": "code",
      "source": [
        "# Mostrar un ejemplo de tweet por cada emoción\n",
        "for emotion in df_train[\"emotion\"].unique():\n",
        "    ejemplo = df_train[df_train[\"emotion\"] == emotion].sample(1, random_state=42)\n",
        "    print(f\"Emoción: {emotion}\")\n",
        "    print(\"Tweet:\", ejemplo[\"tweet\"].values[0])\n",
        "    print(\"-\"*50)"
      ],
      "metadata": {
        "colab": {
          "base_uri": "https://localhost:8080/"
        },
        "id": "NhqYvLTeCl9N",
        "outputId": "ad032b3a-928b-4dda-9216-89a0ad813eaa"
      },
      "execution_count": 10,
      "outputs": [
        {
          "output_type": "stream",
          "name": "stdout",
          "text": [
            "Emoción: others\n",
            "Tweet: He perdido 5 años con el último capítulo de #JuegodeTronos\n",
            "--------------------------------------------------\n",
            "Emoción: sadness\n",
            "Tweet: Aunque es un alivio que no haya que lamentar daños humanos, en este caso los materiales son irremplazables. Muuuy triste 😭 #NotreDame https://t.co/ku2goMOqJ1\n",
            "--------------------------------------------------\n",
            "Emoción: joy\n",
            "Tweet: Esta noche? La mejor noche de mi vida #ElecccionesGenerales28A #JuegodeTronos 🐺\n",
            "--------------------------------------------------\n",
            "Emoción: anger\n",
            "Tweet: Si gana el PSOE, menuda fiesta de Putas y farlopa se van a pegar día sí, día también, a ver si por lo menos lo regulan y pagan impuestos.... Algo sacaremos. #ElecccionesGenerales28A\n",
            "--------------------------------------------------\n",
            "Emoción: surprise\n",
            "Tweet: ¿Soy el único al que le extraña un fuego accidental por labores de renovación precisamente en #NotreDame?\n",
            "--------------------------------------------------\n",
            "Emoción: disgust\n",
            "Tweet: ¿La Sexta y TVE han sacado la música épica de la misma biblioteca? Tremenda pereza #28A #ElecccionesGenerales28A\n",
            "--------------------------------------------------\n",
            "Emoción: fear\n",
            "Tweet: Lo que más miedo me da de lo de #Venezuela es que aquí en México, tienen hoy el poder total el grupo que justifica la Dictadura por el simple hecho de estar en contra de lo que ellos llaman Neoliberalismo. El \"será lo que sea\" es un escándalo\n",
            "--------------------------------------------------\n"
          ]
        }
      ]
    },
    {
      "cell_type": "markdown",
      "source": [
        "## Preprocesamiento"
      ],
      "metadata": {
        "id": "lgt9xd_Xobsw"
      }
    },
    {
      "cell_type": "code",
      "source": [
        "import re\n",
        "\n",
        "def clean_tweet(text):\n",
        "    if pd.isna(text):  # si es NaN, devolvemos cadena vacía\n",
        "        return \"\"\n",
        "    text = str(text).lower()  # todo en minúsculas\n",
        "    text = re.sub(r\"http\\S+|www\\S+|https\\S+\", \"\", text)  # eliminar URLs\n",
        "    text = re.sub(r\"@\\w+\", \"\", text)  # eliminar menciones\n",
        "    text = re.sub(r\"#\", \"\", text)  # quitar el símbolo de hashtag\n",
        "    text = re.sub(r\"[^a-zA-Záéíóúüñ\\s]\", \"\", text)  # quitar caracteres especiales\n",
        "    text = re.sub(r\"\\s+\", \" \", text).strip()  # eliminar espacios extra\n",
        "    return text\n",
        "\n"
      ],
      "metadata": {
        "id": "rq64ejL7oegN"
      },
      "execution_count": 11,
      "outputs": []
    },
    {
      "cell_type": "markdown",
      "source": [
        "El preprocesamiento aplicado a los tweets busca estandarizar el texto y eliminar elementos que añaden ruido sin aportar valor semántico para la clasificación de emociones. La conversión a minúsculas asegura consistencia en el tratamiento de palabras, mientras que la eliminación de URLs, menciones de usuario (@usuario) y el símbolo de hashtag (#) responde a que estos elementos son comunes en tweets pero no contienen carga emocional directa. La eliminación de caracteres especiales preserva únicamente letras y espacios, lo que ayuda a reducir la dimensionalidad del vocabulario. Finalmente, la normalización de espacios elimina redundancias y asegura una tokenización coherente. Este proceso busca maximizar la señal lingüística relevante para que los modelos identifiquen mejor los patrones emocionales en el texto"
      ],
      "metadata": {
        "id": "gq03b-rZRlGg"
      }
    },
    {
      "cell_type": "code",
      "source": [
        "# Aplicar limpieza a los tweets\n",
        "df_train[\"tweet_clean\"] = df_train[\"tweet\"].apply(clean_tweet)\n",
        "df_dev[\"tweet_clean\"]   = df_dev[\"tweet\"].apply(clean_tweet)\n",
        "df_test[\"tweet_clean\"]  = df_test[\"tweet\"].apply(clean_tweet)\n",
        "\n",
        "# Ver ejemplos\n",
        "df_train[[\"tweet\", \"tweet_clean\", \"emotion\"]].head(5)\n"
      ],
      "metadata": {
        "colab": {
          "base_uri": "https://localhost:8080/",
          "height": 206
        },
        "id": "0IakmIBLohuK",
        "outputId": "7461bbd2-0670-479e-ca22-44c54407206d"
      },
      "execution_count": 12,
      "outputs": [
        {
          "output_type": "execute_result",
          "data": {
            "text/plain": [
              "                                               tweet  \\\n",
              "0  La Gran Guerra de #JuegoDeTronos nos ha dejado...   \n",
              "1  El golpe de Estado en #Venezuela está más lejo...   \n",
              "2  No tengo una foto en la catedral de #NotreDame...   \n",
              "3  #NotreDame nunca llegue a visitar tan grandios...   \n",
              "4      A tomar por culo mi crush 😭😭😭😭😭#JuegoDeTronos   \n",
              "\n",
              "                                         tweet_clean  emotion  \n",
              "0  la gran guerra de juegodetronos nos ha dejado ...   others  \n",
              "1  el golpe de estado en venezuela está más lejos...   others  \n",
              "2  no tengo una foto en la catedral de notredame ...  sadness  \n",
              "3  notredame nunca llegue a visitar tan grandiosa...  sadness  \n",
              "4            a tomar por culo mi crush juegodetronos  sadness  "
            ],
            "text/html": [
              "\n",
              "  <div id=\"df-1ab86128-50fc-43af-9299-8869408d3c1e\" class=\"colab-df-container\">\n",
              "    <div>\n",
              "<style scoped>\n",
              "    .dataframe tbody tr th:only-of-type {\n",
              "        vertical-align: middle;\n",
              "    }\n",
              "\n",
              "    .dataframe tbody tr th {\n",
              "        vertical-align: top;\n",
              "    }\n",
              "\n",
              "    .dataframe thead th {\n",
              "        text-align: right;\n",
              "    }\n",
              "</style>\n",
              "<table border=\"1\" class=\"dataframe\">\n",
              "  <thead>\n",
              "    <tr style=\"text-align: right;\">\n",
              "      <th></th>\n",
              "      <th>tweet</th>\n",
              "      <th>tweet_clean</th>\n",
              "      <th>emotion</th>\n",
              "    </tr>\n",
              "  </thead>\n",
              "  <tbody>\n",
              "    <tr>\n",
              "      <th>0</th>\n",
              "      <td>La Gran Guerra de #JuegoDeTronos nos ha dejado...</td>\n",
              "      <td>la gran guerra de juegodetronos nos ha dejado ...</td>\n",
              "      <td>others</td>\n",
              "    </tr>\n",
              "    <tr>\n",
              "      <th>1</th>\n",
              "      <td>El golpe de Estado en #Venezuela está más lejo...</td>\n",
              "      <td>el golpe de estado en venezuela está más lejos...</td>\n",
              "      <td>others</td>\n",
              "    </tr>\n",
              "    <tr>\n",
              "      <th>2</th>\n",
              "      <td>No tengo una foto en la catedral de #NotreDame...</td>\n",
              "      <td>no tengo una foto en la catedral de notredame ...</td>\n",
              "      <td>sadness</td>\n",
              "    </tr>\n",
              "    <tr>\n",
              "      <th>3</th>\n",
              "      <td>#NotreDame nunca llegue a visitar tan grandios...</td>\n",
              "      <td>notredame nunca llegue a visitar tan grandiosa...</td>\n",
              "      <td>sadness</td>\n",
              "    </tr>\n",
              "    <tr>\n",
              "      <th>4</th>\n",
              "      <td>A tomar por culo mi crush 😭😭😭😭😭#JuegoDeTronos</td>\n",
              "      <td>a tomar por culo mi crush juegodetronos</td>\n",
              "      <td>sadness</td>\n",
              "    </tr>\n",
              "  </tbody>\n",
              "</table>\n",
              "</div>\n",
              "    <div class=\"colab-df-buttons\">\n",
              "\n",
              "  <div class=\"colab-df-container\">\n",
              "    <button class=\"colab-df-convert\" onclick=\"convertToInteractive('df-1ab86128-50fc-43af-9299-8869408d3c1e')\"\n",
              "            title=\"Convert this dataframe to an interactive table.\"\n",
              "            style=\"display:none;\">\n",
              "\n",
              "  <svg xmlns=\"http://www.w3.org/2000/svg\" height=\"24px\" viewBox=\"0 -960 960 960\">\n",
              "    <path d=\"M120-120v-720h720v720H120Zm60-500h600v-160H180v160Zm220 220h160v-160H400v160Zm0 220h160v-160H400v160ZM180-400h160v-160H180v160Zm440 0h160v-160H620v160ZM180-180h160v-160H180v160Zm440 0h160v-160H620v160Z\"/>\n",
              "  </svg>\n",
              "    </button>\n",
              "\n",
              "  <style>\n",
              "    .colab-df-container {\n",
              "      display:flex;\n",
              "      gap: 12px;\n",
              "    }\n",
              "\n",
              "    .colab-df-convert {\n",
              "      background-color: #E8F0FE;\n",
              "      border: none;\n",
              "      border-radius: 50%;\n",
              "      cursor: pointer;\n",
              "      display: none;\n",
              "      fill: #1967D2;\n",
              "      height: 32px;\n",
              "      padding: 0 0 0 0;\n",
              "      width: 32px;\n",
              "    }\n",
              "\n",
              "    .colab-df-convert:hover {\n",
              "      background-color: #E2EBFA;\n",
              "      box-shadow: 0px 1px 2px rgba(60, 64, 67, 0.3), 0px 1px 3px 1px rgba(60, 64, 67, 0.15);\n",
              "      fill: #174EA6;\n",
              "    }\n",
              "\n",
              "    .colab-df-buttons div {\n",
              "      margin-bottom: 4px;\n",
              "    }\n",
              "\n",
              "    [theme=dark] .colab-df-convert {\n",
              "      background-color: #3B4455;\n",
              "      fill: #D2E3FC;\n",
              "    }\n",
              "\n",
              "    [theme=dark] .colab-df-convert:hover {\n",
              "      background-color: #434B5C;\n",
              "      box-shadow: 0px 1px 3px 1px rgba(0, 0, 0, 0.15);\n",
              "      filter: drop-shadow(0px 1px 2px rgba(0, 0, 0, 0.3));\n",
              "      fill: #FFFFFF;\n",
              "    }\n",
              "  </style>\n",
              "\n",
              "    <script>\n",
              "      const buttonEl =\n",
              "        document.querySelector('#df-1ab86128-50fc-43af-9299-8869408d3c1e button.colab-df-convert');\n",
              "      buttonEl.style.display =\n",
              "        google.colab.kernel.accessAllowed ? 'block' : 'none';\n",
              "\n",
              "      async function convertToInteractive(key) {\n",
              "        const element = document.querySelector('#df-1ab86128-50fc-43af-9299-8869408d3c1e');\n",
              "        const dataTable =\n",
              "          await google.colab.kernel.invokeFunction('convertToInteractive',\n",
              "                                                    [key], {});\n",
              "        if (!dataTable) return;\n",
              "\n",
              "        const docLinkHtml = 'Like what you see? Visit the ' +\n",
              "          '<a target=\"_blank\" href=https://colab.research.google.com/notebooks/data_table.ipynb>data table notebook</a>'\n",
              "          + ' to learn more about interactive tables.';\n",
              "        element.innerHTML = '';\n",
              "        dataTable['output_type'] = 'display_data';\n",
              "        await google.colab.output.renderOutput(dataTable, element);\n",
              "        const docLink = document.createElement('div');\n",
              "        docLink.innerHTML = docLinkHtml;\n",
              "        element.appendChild(docLink);\n",
              "      }\n",
              "    </script>\n",
              "  </div>\n",
              "\n",
              "\n",
              "    <div id=\"df-d8b65536-ee3e-4c76-9cac-d675f05ae23a\">\n",
              "      <button class=\"colab-df-quickchart\" onclick=\"quickchart('df-d8b65536-ee3e-4c76-9cac-d675f05ae23a')\"\n",
              "                title=\"Suggest charts\"\n",
              "                style=\"display:none;\">\n",
              "\n",
              "<svg xmlns=\"http://www.w3.org/2000/svg\" height=\"24px\"viewBox=\"0 0 24 24\"\n",
              "     width=\"24px\">\n",
              "    <g>\n",
              "        <path d=\"M19 3H5c-1.1 0-2 .9-2 2v14c0 1.1.9 2 2 2h14c1.1 0 2-.9 2-2V5c0-1.1-.9-2-2-2zM9 17H7v-7h2v7zm4 0h-2V7h2v10zm4 0h-2v-4h2v4z\"/>\n",
              "    </g>\n",
              "</svg>\n",
              "      </button>\n",
              "\n",
              "<style>\n",
              "  .colab-df-quickchart {\n",
              "      --bg-color: #E8F0FE;\n",
              "      --fill-color: #1967D2;\n",
              "      --hover-bg-color: #E2EBFA;\n",
              "      --hover-fill-color: #174EA6;\n",
              "      --disabled-fill-color: #AAA;\n",
              "      --disabled-bg-color: #DDD;\n",
              "  }\n",
              "\n",
              "  [theme=dark] .colab-df-quickchart {\n",
              "      --bg-color: #3B4455;\n",
              "      --fill-color: #D2E3FC;\n",
              "      --hover-bg-color: #434B5C;\n",
              "      --hover-fill-color: #FFFFFF;\n",
              "      --disabled-bg-color: #3B4455;\n",
              "      --disabled-fill-color: #666;\n",
              "  }\n",
              "\n",
              "  .colab-df-quickchart {\n",
              "    background-color: var(--bg-color);\n",
              "    border: none;\n",
              "    border-radius: 50%;\n",
              "    cursor: pointer;\n",
              "    display: none;\n",
              "    fill: var(--fill-color);\n",
              "    height: 32px;\n",
              "    padding: 0;\n",
              "    width: 32px;\n",
              "  }\n",
              "\n",
              "  .colab-df-quickchart:hover {\n",
              "    background-color: var(--hover-bg-color);\n",
              "    box-shadow: 0 1px 2px rgba(60, 64, 67, 0.3), 0 1px 3px 1px rgba(60, 64, 67, 0.15);\n",
              "    fill: var(--button-hover-fill-color);\n",
              "  }\n",
              "\n",
              "  .colab-df-quickchart-complete:disabled,\n",
              "  .colab-df-quickchart-complete:disabled:hover {\n",
              "    background-color: var(--disabled-bg-color);\n",
              "    fill: var(--disabled-fill-color);\n",
              "    box-shadow: none;\n",
              "  }\n",
              "\n",
              "  .colab-df-spinner {\n",
              "    border: 2px solid var(--fill-color);\n",
              "    border-color: transparent;\n",
              "    border-bottom-color: var(--fill-color);\n",
              "    animation:\n",
              "      spin 1s steps(1) infinite;\n",
              "  }\n",
              "\n",
              "  @keyframes spin {\n",
              "    0% {\n",
              "      border-color: transparent;\n",
              "      border-bottom-color: var(--fill-color);\n",
              "      border-left-color: var(--fill-color);\n",
              "    }\n",
              "    20% {\n",
              "      border-color: transparent;\n",
              "      border-left-color: var(--fill-color);\n",
              "      border-top-color: var(--fill-color);\n",
              "    }\n",
              "    30% {\n",
              "      border-color: transparent;\n",
              "      border-left-color: var(--fill-color);\n",
              "      border-top-color: var(--fill-color);\n",
              "      border-right-color: var(--fill-color);\n",
              "    }\n",
              "    40% {\n",
              "      border-color: transparent;\n",
              "      border-right-color: var(--fill-color);\n",
              "      border-top-color: var(--fill-color);\n",
              "    }\n",
              "    60% {\n",
              "      border-color: transparent;\n",
              "      border-right-color: var(--fill-color);\n",
              "    }\n",
              "    80% {\n",
              "      border-color: transparent;\n",
              "      border-right-color: var(--fill-color);\n",
              "      border-bottom-color: var(--fill-color);\n",
              "    }\n",
              "    90% {\n",
              "      border-color: transparent;\n",
              "      border-bottom-color: var(--fill-color);\n",
              "    }\n",
              "  }\n",
              "</style>\n",
              "\n",
              "      <script>\n",
              "        async function quickchart(key) {\n",
              "          const quickchartButtonEl =\n",
              "            document.querySelector('#' + key + ' button');\n",
              "          quickchartButtonEl.disabled = true;  // To prevent multiple clicks.\n",
              "          quickchartButtonEl.classList.add('colab-df-spinner');\n",
              "          try {\n",
              "            const charts = await google.colab.kernel.invokeFunction(\n",
              "                'suggestCharts', [key], {});\n",
              "          } catch (error) {\n",
              "            console.error('Error during call to suggestCharts:', error);\n",
              "          }\n",
              "          quickchartButtonEl.classList.remove('colab-df-spinner');\n",
              "          quickchartButtonEl.classList.add('colab-df-quickchart-complete');\n",
              "        }\n",
              "        (() => {\n",
              "          let quickchartButtonEl =\n",
              "            document.querySelector('#df-d8b65536-ee3e-4c76-9cac-d675f05ae23a button');\n",
              "          quickchartButtonEl.style.display =\n",
              "            google.colab.kernel.accessAllowed ? 'block' : 'none';\n",
              "        })();\n",
              "      </script>\n",
              "    </div>\n",
              "\n",
              "    </div>\n",
              "  </div>\n"
            ],
            "application/vnd.google.colaboratory.intrinsic+json": {
              "type": "dataframe",
              "summary": "{\n  \"name\": \"df_train[[\\\"tweet\\\", \\\"tweet_clean\\\", \\\"emotion\\\"]]\",\n  \"rows\": 5,\n  \"fields\": [\n    {\n      \"column\": \"tweet\",\n      \"properties\": {\n        \"dtype\": \"string\",\n        \"num_unique_values\": 5,\n        \"samples\": [\n          \"El golpe de Estado en #Venezuela est\\u00e1 m\\u00e1s lejos que el final de Elif. #VenezuelaEnBatallaYVictoria #VenezuelaNoSeRinde #VenezuelaHoy\",\n          \"A tomar por culo mi crush \\ud83d\\ude2d\\ud83d\\ude2d\\ud83d\\ude2d\\ud83d\\ude2d\\ud83d\\ude2d#JuegoDeTronos\",\n          \"No tengo una foto en la catedral de #NotreDame pero tengo esta secuencia hermosa... https://t.co/cwcdHASGIu\"\n        ],\n        \"semantic_type\": \"\",\n        \"description\": \"\"\n      }\n    },\n    {\n      \"column\": \"tweet_clean\",\n      \"properties\": {\n        \"dtype\": \"string\",\n        \"num_unique_values\": 5,\n        \"samples\": [\n          \"el golpe de estado en venezuela est\\u00e1 m\\u00e1s lejos que el final de elif venezuelaenbatallayvictoria venezuelanoserinde venezuelahoy\",\n          \"a tomar por culo mi crush juegodetronos\",\n          \"no tengo una foto en la catedral de notredame pero tengo esta secuencia hermosa\"\n        ],\n        \"semantic_type\": \"\",\n        \"description\": \"\"\n      }\n    },\n    {\n      \"column\": \"emotion\",\n      \"properties\": {\n        \"dtype\": \"category\",\n        \"num_unique_values\": 2,\n        \"samples\": [\n          \"sadness\",\n          \"others\"\n        ],\n        \"semantic_type\": \"\",\n        \"description\": \"\"\n      }\n    }\n  ]\n}"
            }
          },
          "metadata": {},
          "execution_count": 12
        }
      ]
    },
    {
      "cell_type": "code",
      "source": [
        "import matplotlib.pyplot as plt\n",
        "import seaborn as sns\n",
        "\n",
        "plt.figure(figsize=(10,5))\n",
        "sns.countplot(y=df_train[\"emotion\"], order=df_train[\"emotion\"].value_counts().index, palette=\"viridis\")\n",
        "plt.title(\"Distribución de emociones en entrenamiento\")\n",
        "plt.show()\n"
      ],
      "metadata": {
        "colab": {
          "base_uri": "https://localhost:8080/",
          "height": 598
        },
        "id": "AeCHine9okyk",
        "outputId": "3801ad28-e066-41f5-db16-22358e46a78d"
      },
      "execution_count": 13,
      "outputs": [
        {
          "output_type": "stream",
          "name": "stderr",
          "text": [
            "/tmp/ipython-input-3914878079.py:5: FutureWarning: \n",
            "\n",
            "Passing `palette` without assigning `hue` is deprecated and will be removed in v0.14.0. Assign the `y` variable to `hue` and set `legend=False` for the same effect.\n",
            "\n",
            "  sns.countplot(y=df_train[\"emotion\"], order=df_train[\"emotion\"].value_counts().index, palette=\"viridis\")\n"
          ]
        },
        {
          "output_type": "display_data",
          "data": {
            "text/plain": [
              "<Figure size 1000x500 with 1 Axes>"
            ],
            "image/png": "[encoded data removed]"
          },
          "metadata": {}
        }
      ]
    },
    {
      "cell_type": "markdown",
      "source": [
        "## Modelos"
      ],
      "metadata": {
        "id": "oyzQqD5TpG5n"
      }
    },
    {
      "cell_type": "markdown",
      "source": [
        "### Modelo 1: Logistic Regression con TF-IDF"
      ],
      "metadata": {
        "id": "tjrX217NpNo7"
      }
    },
    {
      "cell_type": "code",
      "source": [
        "from sklearn.feature_extraction.text import TfidfVectorizer\n",
        "from sklearn.linear_model import LogisticRegression\n",
        "from sklearn.metrics import classification_report, confusion_matrix, accuracy_score\n",
        "import seaborn as sns\n",
        "import matplotlib.pyplot as plt\n",
        "\n",
        "# Vectorización TF-IDF\n",
        "tfidf = TfidfVectorizer(max_features=5000, ngram_range=(1,2))\n",
        "X_train_tfidf = tfidf.fit_transform(df_train[\"tweet_clean\"])\n",
        "X_dev_tfidf   = tfidf.transform(df_dev[\"tweet_clean\"])\n",
        "X_test_tfidf  = tfidf.transform(df_test[\"tweet_clean\"])\n",
        "\n",
        "# Etiquetas\n",
        "y_train = df_train[\"emotion\"]\n",
        "y_dev   = df_dev[\"emotion\"]\n",
        "y_test  = df_test[\"emotion\"]\n",
        "\n",
        "# Entrenar Logistic Regression\n",
        "lr_model = LogisticRegression(max_iter=500)\n",
        "lr_model.fit(X_train_tfidf, y_train)\n",
        "\n",
        "# Predicciones\n",
        "y_pred_lr = lr_model.predict(X_test_tfidf)\n",
        "\n",
        "# Evaluación\n",
        "acc_lr = accuracy_score(y_test, y_pred_lr)\n",
        "print(\"Logistic Regression - Accuracy:\", acc_lr)\n",
        "print(\"\\nReporte por clase (LR):\\n\", classification_report(y_test, y_pred_lr))\n",
        "\n",
        "# Matriz de confusión\n",
        "cm_lr = confusion_matrix(y_test, y_pred_lr)\n",
        "plt.figure(figsize=(10,7))\n",
        "sns.heatmap(cm_lr, annot=True, fmt='d', xticklabels=sorted(y_test.unique()), yticklabels=sorted(y_test.unique()), cmap=\"Blues\")\n",
        "plt.title(\"Matriz de confusión - Logistic Regression\")\n",
        "plt.xlabel(\"Predicción\")\n",
        "plt.ylabel(\"Etiqueta real\")\n",
        "plt.show()"
      ],
      "metadata": {
        "colab": {
          "base_uri": "https://localhost:8080/",
          "height": 1000
        },
        "id": "LDLjj2_nwY5p",
        "outputId": "987117b3-3218-4ce9-cfbe-cca08fdec7d1"
      },
      "execution_count": 14,
      "outputs": [
        {
          "output_type": "stream",
          "name": "stdout",
          "text": [
            "Logistic Regression - Accuracy: 0.42089371980676327\n",
            "\n",
            "Reporte por clase (LR):\n",
            "               precision    recall  f1-score   support\n",
            "\n",
            "       anger       0.13      0.05      0.07       168\n",
            "     disgust       0.00      0.00      0.00        33\n",
            "        fear       0.00      0.00      0.00        21\n",
            "         joy       0.25      0.16      0.20       354\n",
            "      others       0.50      0.75      0.60       814\n",
            "     sadness       0.14      0.10      0.12       199\n",
            "    surprise       0.00      0.00      0.00        67\n",
            "\n",
            "    accuracy                           0.42      1656\n",
            "   macro avg       0.15      0.15      0.14      1656\n",
            "weighted avg       0.33      0.42      0.36      1656\n",
            "\n"
          ]
        },
        {
          "output_type": "stream",
          "name": "stderr",
          "text": [
            "/usr/local/lib/python3.12/dist-packages/sklearn/metrics/_classification.py:1565: UndefinedMetricWarning: Precision is ill-defined and being set to 0.0 in labels with no predicted samples. Use `zero_division` parameter to control this behavior.\n",
            "  _warn_prf(average, modifier, f\"{metric.capitalize()} is\", len(result))\n",
            "/usr/local/lib/python3.12/dist-packages/sklearn/metrics/_classification.py:1565: UndefinedMetricWarning: Precision is ill-defined and being set to 0.0 in labels with no predicted samples. Use `zero_division` parameter to control this behavior.\n",
            "  _warn_prf(average, modifier, f\"{metric.capitalize()} is\", len(result))\n",
            "/usr/local/lib/python3.12/dist-packages/sklearn/metrics/_classification.py:1565: UndefinedMetricWarning: Precision is ill-defined and being set to 0.0 in labels with no predicted samples. Use `zero_division` parameter to control this behavior.\n",
            "  _warn_prf(average, modifier, f\"{metric.capitalize()} is\", len(result))\n"
          ]
        },
        {
          "output_type": "display_data",
          "data": {
            "text/plain": [
              "<Figure size 1000x700 with 2 Axes>"
            ],
            "image/png": "[encoded data removed]"
          },
          "metadata": {}
        }
      ]
    },
    {
      "cell_type": "markdown",
      "source": [
        "#### ¿Por qué elegimos este modelo?"
      ],
      "metadata": {
        "id": "Chtqtv9pSJiH"
      }
    },
    {
      "cell_type": "markdown",
      "source": [
        "La Regresión Logística con TF-IDF se seleccionó como nuestro primer modelo para establecer una línea base (baseline) sólida. A pesar de su simplicidad, este enfoque clásico de Machine Learning suele funcionar excepcionalmente bien en problemas de clasificación de texto. La combinación de TF-IDF (Term Frequency-Inverse Document Frequency) con Regresión Logística es transparente, computacionalmente eficiente y nos permite entender qué palabras están contribuyendo más a la clasificación de cada emoción, proporcionando un punto de referencia contra el cual comparar modelos más complejos.\n",
        "\n",
        "**Parámetros clave:**\n",
        "\n",
        "`max_features=5000:` Limita el vocabulario a las 5000 palabras más importantes, previniendo la maldición de la dimensionalidad y el sobreajuste.\n",
        "\n",
        "`ngram_range=(1,2):` Considera tanto palabras individuales (unigramas) como pares de palabras (bigramas). Esto es crucial para capturar frases como \"estoy feliz\" o \"no me gusta\".\n",
        "\n",
        "`max_iter=500:` Asegura que el algoritmo de optimización tenga suficientes iteraciones para converger a una solución estable."
      ],
      "metadata": {
        "id": "ZRj80MEiSQFl"
      }
    },
    {
      "cell_type": "markdown",
      "source": [
        "#### Análisis de Resultados"
      ],
      "metadata": {
        "id": "xjXewZS8SgCD"
      }
    },
    {
      "cell_type": "markdown",
      "source": [
        "Los resultados obtenidos confirman que la tarea es extremadamente desafiante, pero también revelan los sesgos esperados debido al desbalanceo del dataset.\n",
        "\n",
        "***Accuracy:*** `0.42 (42%)`. Este valor, aunque bajo, es engañoso. Un modelo que siempre predijera la clase mayoritaria others tendría un accuracy cercano al `49% (814/1656)`, por lo que nuestro modelo baseline está por debajo de ese umbral simplista, indicando la dificultad del problema.\n",
        "\n",
        "***Macro F1-Score:*** `0.14.` Esta métrica, que es la más importante dado el desbalanceo, es muy baja. Confirma que el modelo tiene un desempeño pobre cuando se le obliga a desempeñarse bien en todas las clases por igual.\n",
        "\n",
        "***Reporte por Clase:***\n",
        "\n",
        "***others:*** Domina las métricas con un F1 de `0.60`. El modelo aprende principalmente a identificar esta clase, que es la más frecuente.\n",
        "\n",
        "***Emociones restantes:*** El desempeño es muy bajo o directamente nulo (`disgust, fear, surprise tienen F1=0.00`). El modelo no logra aprender patrones suficientes para estas clases minoritarias.\n",
        "\n",
        "***Precision y Recall:*** Para la mayoría de las emociones, tanto la precisión (cuándo acierta al predecir una clase) como el recall (cuántos casos de una clase logra encontrar) son muy bajos."
      ],
      "metadata": {
        "id": "Uh1dVRc-SikH"
      }
    },
    {
      "cell_type": "markdown",
      "source": [
        "#### Análisis de la Matriz de Confusión"
      ],
      "metadata": {
        "id": "HQvBETtiSlRn"
      }
    },
    {
      "cell_type": "markdown",
      "source": [
        "La matriz de confusión visualiza claramente los hallazgos del reporte de clasificación:\n",
        "\n",
        "Sesgo hacia `\"others\"`: La columna de others es la más densa. La gran mayoría de las predicciones, independientemente de la emoción real, terminan en esta clase. Esto es especialmente evidente para emociones como disgust, fear y surprise, cuyos ejemplos son casi entirely clasificados incorrectamente como others.\n",
        "\n",
        "***Confusiones Understandables:*** Observamos ciertos patrones de error que tienen sentido lingüístico:\n",
        "\n",
        "1. anger se confunde con sadness y others. Ambas son emociones negativas.\n",
        "\n",
        "2. sadness también se confunde mayoritariamente con others.\n",
        "\n",
        "3. joy muestra una pequeña cantidad de predicciones correctas, pero la mayoría son absorbidas por la clase others.\n",
        "\n",
        "\n",
        "\n",
        "\n",
        "***Clases Ignoradas:*** El modelo prácticamente no predice las clases `disgust, fear y surprise` (sus columnas están casi vacías), lo que explica el `F1-Score` de `0.00`. No hay suficientes ejemplos de entrenamiento para que el modelo aprenda a distinguirlas."
      ],
      "metadata": {
        "id": "ZDbaacJaSpHt"
      }
    },
    {
      "cell_type": "markdown",
      "source": [
        "La Regresión Logística sirvió para confirmar el enorme desafío que presenta el desbalanceo del dataset. El modelo funciona apenas mejor que un adivinador aleatorio sesgado hacia la clase mayoritaria y falla completamente en identificar las emociones más sutiles. Esto establece una línea base muy clara y justifica la necesidad de probar modelos más sofisticados que puedan capturar mejor el contexto y manejar el desbalanceo de clases.\n",
        "\n"
      ],
      "metadata": {
        "id": "gzGpHCFeTrVl"
      }
    },
    {
      "cell_type": "markdown",
      "source": [
        "### Modelo 2: LSTM simple con embeddings"
      ],
      "metadata": {
        "id": "62g5fsKopR2D"
      }
    },
    {
      "cell_type": "code",
      "source": [
        "import tensorflow as tf\n",
        "from tensorflow.keras.preprocessing.text import Tokenizer\n",
        "from tensorflow.keras.preprocessing.sequence import pad_sequences\n",
        "from tensorflow.keras.models import Sequential\n",
        "from tensorflow.keras.layers import Embedding, LSTM, Dense\n",
        "from sklearn.preprocessing import LabelEncoder\n",
        "\n",
        "# Tokenización\n",
        "max_words = 10000\n",
        "max_len   = 50\n",
        "\n",
        "tokenizer = Tokenizer(num_words=max_words, oov_token=\"<OOV>\")\n",
        "tokenizer.fit_on_texts(df_train[\"tweet_clean\"])\n",
        "\n",
        "X_train_seq = tokenizer.texts_to_sequences(df_train[\"tweet_clean\"])\n",
        "X_dev_seq   = tokenizer.texts_to_sequences(df_dev[\"tweet_clean\"])\n",
        "X_test_seq  = tokenizer.texts_to_sequences(df_test[\"tweet_clean\"])\n",
        "\n",
        "X_train_pad = pad_sequences(X_train_seq, maxlen=max_len, padding=\"post\")\n",
        "X_dev_pad   = pad_sequences(X_dev_seq, maxlen=max_len, padding=\"post\")\n",
        "X_test_pad  = pad_sequences(X_test_seq, maxlen=max_len, padding=\"post\")\n",
        "\n",
        "# Etiquetas a números\n",
        "le = LabelEncoder()\n",
        "y_train_enc = le.fit_transform(y_train)\n",
        "y_dev_enc   = le.transform(y_dev)\n",
        "y_test_enc  = le.transform(y_test)\n",
        "\n",
        "num_classes = len(le.classes_)\n",
        "\n",
        "# Modelo LSTM\n",
        "lstm_model = Sequential([\n",
        "    Embedding(max_words, 128, input_length=max_len),\n",
        "    LSTM(128, dropout=0.2, recurrent_dropout=0.2),\n",
        "    Dense(num_classes, activation=\"softmax\")\n",
        "])\n",
        "\n",
        "lstm_model.compile(loss=\"sparse_categorical_crossentropy\", optimizer=\"adam\", metrics=[\"accuracy\"])\n",
        "lstm_model.summary()\n",
        "\n",
        "# Entrenamiento\n",
        "history = lstm_model.fit(\n",
        "    X_train_pad, y_train_enc,\n",
        "    validation_data=(X_dev_pad, y_dev_enc),\n",
        "    epochs=5, batch_size=64\n",
        ")\n",
        "\n",
        "# Evaluación LSTM\n",
        "y_pred_lstm = lstm_model.predict(X_test_pad)\n",
        "y_pred_lstm_labels = le.inverse_transform(y_pred_lstm.argmax(axis=1))\n",
        "\n",
        "acc_lstm = accuracy_score(y_test, y_pred_lstm_labels)\n",
        "print(\"LSTM - Accuracy:\", acc_lstm)\n",
        "print(\"\\nReporte por clase (LSTM):\\n\", classification_report(y_test, y_pred_lstm_labels))\n",
        "\n",
        "cm_lstm = confusion_matrix(y_test, y_pred_lstm_labels)\n",
        "plt.figure(figsize=(10,7))\n",
        "sns.heatmap(cm_lstm, annot=True, fmt='d', xticklabels=le.classes_, yticklabels=le.classes_, cmap=\"Greens\")\n",
        "plt.title(\"Matriz de confusión - LSTM\")\n",
        "plt.xlabel(\"Predicción\")\n",
        "plt.ylabel(\"Etiqueta real\")\n",
        "plt.show()"
      ],
      "metadata": {
        "colab": {
          "base_uri": "https://localhost:8080/",
          "height": 1000
        },
        "id": "7-JxScI5wjVl",
        "outputId": "46b63705-6e8b-47ff-f611-e4277d2efd8e"
      },
      "execution_count": 15,
      "outputs": [
        {
          "output_type": "stream",
          "name": "stderr",
          "text": [
            "/usr/local/lib/python3.12/dist-packages/keras/src/layers/core/embedding.py:97: UserWarning: Argument `input_length` is deprecated. Just remove it.\n",
            "  warnings.warn(\n"
          ]
        },
        {
          "output_type": "display_data",
          "data": {
            "text/plain": [
              "\u001b[1mModel: \"sequential\"\u001b[0m\n"
            ],
            "text/html": [
              "<pre style=\"white-space:pre;overflow-x:auto;line-height:normal;font-family:Menlo,'DejaVu Sans Mono',consolas,'Courier New',monospace\"><span style=\"font-weight: bold\">Model: \"sequential\"</span>\n",
              "</pre>\n"
            ]
          },
          "metadata": {}
        },
        {
          "output_type": "display_data",
          "data": {
            "text/plain": [
              "┏━━━━━━━━━━━━━━━━━━━━━━━━━━━━━━━━━┳━━━━━━━━━━━━━━━━━━━━━━━━┳━━━━━━━━━━━━━━━┓\n",
              "┃\u001b[1m \u001b[0m\u001b[1mLayer (type)                   \u001b[0m\u001b[1m \u001b[0m┃\u001b[1m \u001b[0m\u001b[1mOutput Shape          \u001b[0m\u001b[1m \u001b[0m┃\u001b[1m \u001b[0m\u001b[1m      Param #\u001b[0m\u001b[1m \u001b[0m┃\n",
              "┡━━━━━━━━━━━━━━━━━━━━━━━━━━━━━━━━━╇━━━━━━━━━━━━━━━━━━━━━━━━╇━━━━━━━━━━━━━━━┩\n",
              "│ embedding (\u001b[38;5;33mEmbedding\u001b[0m)           │ ?                      │   \u001b[38;5;34m0\u001b[0m (unbuilt) │\n",
              "├─────────────────────────────────┼────────────────────────┼───────────────┤\n",
              "│ lstm (\u001b[38;5;33mLSTM\u001b[0m)                     │ ?                      │   \u001b[38;5;34m0\u001b[0m (unbuilt) │\n",
              "├─────────────────────────────────┼────────────────────────┼───────────────┤\n",
              "│ dense (\u001b[38;5;33mDense\u001b[0m)                   │ ?                      │   \u001b[38;5;34m0\u001b[0m (unbuilt) │\n",
              "└─────────────────────────────────┴────────────────────────┴───────────────┘\n"
            ],
            "text/html": [
              "<pre style=\"white-space:pre;overflow-x:auto;line-height:normal;font-family:Menlo,'DejaVu Sans Mono',consolas,'Courier New',monospace\">┏━━━━━━━━━━━━━━━━━━━━━━━━━━━━━━━━━┳━━━━━━━━━━━━━━━━━━━━━━━━┳━━━━━━━━━━━━━━━┓\n",
              "┃<span style=\"font-weight: bold\"> Layer (type)                    </span>┃<span style=\"font-weight: bold\"> Output Shape           </span>┃<span style=\"font-weight: bold\">       Param # </span>┃\n",
              "┡━━━━━━━━━━━━━━━━━━━━━━━━━━━━━━━━━╇━━━━━━━━━━━━━━━━━━━━━━━━╇━━━━━━━━━━━━━━━┩\n",
              "│ embedding (<span style=\"color: #0087ff; text-decoration-color: #0087ff\">Embedding</span>)           │ ?                      │   <span style=\"color: #00af00; text-decoration-color: #00af00\">0</span> (unbuilt) │\n",
              "├─────────────────────────────────┼────────────────────────┼───────────────┤\n",
              "│ lstm (<span style=\"color: #0087ff; text-decoration-color: #0087ff\">LSTM</span>)                     │ ?                      │   <span style=\"color: #00af00; text-decoration-color: #00af00\">0</span> (unbuilt) │\n",
              "├─────────────────────────────────┼────────────────────────┼───────────────┤\n",
              "│ dense (<span style=\"color: #0087ff; text-decoration-color: #0087ff\">Dense</span>)                   │ ?                      │   <span style=\"color: #00af00; text-decoration-color: #00af00\">0</span> (unbuilt) │\n",
              "└─────────────────────────────────┴────────────────────────┴───────────────┘\n",
              "</pre>\n"
            ]
          },
          "metadata": {}
        },
        {
          "output_type": "display_data",
          "data": {
            "text/plain": [
              "\u001b[1m Total params: \u001b[0m\u001b[38;5;34m0\u001b[0m (0.00 B)\n"
            ],
            "text/html": [
              "<pre style=\"white-space:pre;overflow-x:auto;line-height:normal;font-family:Menlo,'DejaVu Sans Mono',consolas,'Courier New',monospace\"><span style=\"font-weight: bold\"> Total params: </span><span style=\"color: #00af00; text-decoration-color: #00af00\">0</span> (0.00 B)\n",
              "</pre>\n"
            ]
          },
          "metadata": {}
        },
        {
          "output_type": "display_data",
          "data": {
            "text/plain": [
              "\u001b[1m Trainable params: \u001b[0m\u001b[38;5;34m0\u001b[0m (0.00 B)\n"
            ],
            "text/html": [
              "<pre style=\"white-space:pre;overflow-x:auto;line-height:normal;font-family:Menlo,'DejaVu Sans Mono',consolas,'Courier New',monospace\"><span style=\"font-weight: bold\"> Trainable params: </span><span style=\"color: #00af00; text-decoration-color: #00af00\">0</span> (0.00 B)\n",
              "</pre>\n"
            ]
          },
          "metadata": {}
        },
        {
          "output_type": "display_data",
          "data": {
            "text/plain": [
              "\u001b[1m Non-trainable params: \u001b[0m\u001b[38;5;34m0\u001b[0m (0.00 B)\n"
            ],
            "text/html": [
              "<pre style=\"white-space:pre;overflow-x:auto;line-height:normal;font-family:Menlo,'DejaVu Sans Mono',consolas,'Courier New',monospace\"><span style=\"font-weight: bold\"> Non-trainable params: </span><span style=\"color: #00af00; text-decoration-color: #00af00\">0</span> (0.00 B)\n",
              "</pre>\n"
            ]
          },
          "metadata": {}
        },
        {
          "output_type": "stream",
          "name": "stdout",
          "text": [
            "Epoch 1/5\n",
            "\u001b[1m90/90\u001b[0m \u001b[32m━━━━━━━━━━━━━━━━━━━━\u001b[0m\u001b[37m\u001b[0m \u001b[1m24s\u001b[0m 204ms/step - accuracy: 0.4768 - loss: 1.5240 - val_accuracy: 0.5024 - val_loss: 1.3991\n",
            "Epoch 2/5\n",
            "\u001b[1m90/90\u001b[0m \u001b[32m━━━━━━━━━━━━━━━━━━━━\u001b[0m\u001b[37m\u001b[0m \u001b[1m19s\u001b[0m 212ms/step - accuracy: 0.5166 - loss: 1.3631 - val_accuracy: 0.5533 - val_loss: 1.2731\n",
            "Epoch 3/5\n",
            "\u001b[1m90/90\u001b[0m \u001b[32m━━━━━━━━━━━━━━━━━━━━\u001b[0m\u001b[37m\u001b[0m \u001b[1m18s\u001b[0m 199ms/step - accuracy: 0.5516 - loss: 1.2243 - val_accuracy: 0.5533 - val_loss: 1.2136\n",
            "Epoch 4/5\n",
            "\u001b[1m90/90\u001b[0m \u001b[32m━━━━━━━━━━━━━━━━━━━━\u001b[0m\u001b[37m\u001b[0m \u001b[1m22s\u001b[0m 218ms/step - accuracy: 0.5653 - loss: 1.1355 - val_accuracy: 0.5391 - val_loss: 1.2132\n",
            "Epoch 5/5\n",
            "\u001b[1m90/90\u001b[0m \u001b[32m━━━━━━━━━━━━━━━━━━━━\u001b[0m\u001b[37m\u001b[0m \u001b[1m23s\u001b[0m 241ms/step - accuracy: 0.5825 - loss: 1.0649 - val_accuracy: 0.5498 - val_loss: 1.1799\n",
            "\u001b[1m52/52\u001b[0m \u001b[32m━━━━━━━━━━━━━━━━━━━━\u001b[0m\u001b[37m\u001b[0m \u001b[1m3s\u001b[0m 53ms/step\n",
            "LSTM - Accuracy: 0.42028985507246375\n",
            "\n",
            "Reporte por clase (LSTM):\n",
            "               precision    recall  f1-score   support\n",
            "\n",
            "       anger       0.09      0.06      0.07       168\n",
            "     disgust       0.00      0.00      0.00        33\n",
            "        fear       0.00      0.00      0.00        21\n",
            "         joy       0.00      0.00      0.00       354\n",
            "      others       0.48      0.81      0.61       814\n",
            "     sadness       0.14      0.13      0.13       199\n",
            "    surprise       0.00      0.00      0.00        67\n",
            "\n",
            "    accuracy                           0.42      1656\n",
            "   macro avg       0.10      0.14      0.12      1656\n",
            "weighted avg       0.26      0.42      0.32      1656\n",
            "\n"
          ]
        },
        {
          "output_type": "stream",
          "name": "stderr",
          "text": [
            "/usr/local/lib/python3.12/dist-packages/sklearn/metrics/_classification.py:1565: UndefinedMetricWarning: Precision is ill-defined and being set to 0.0 in labels with no predicted samples. Use `zero_division` parameter to control this behavior.\n",
            "  _warn_prf(average, modifier, f\"{metric.capitalize()} is\", len(result))\n",
            "/usr/local/lib/python3.12/dist-packages/sklearn/metrics/_classification.py:1565: UndefinedMetricWarning: Precision is ill-defined and being set to 0.0 in labels with no predicted samples. Use `zero_division` parameter to control this behavior.\n",
            "  _warn_prf(average, modifier, f\"{metric.capitalize()} is\", len(result))\n",
            "/usr/local/lib/python3.12/dist-packages/sklearn/metrics/_classification.py:1565: UndefinedMetricWarning: Precision is ill-defined and being set to 0.0 in labels with no predicted samples. Use `zero_division` parameter to control this behavior.\n",
            "  _warn_prf(average, modifier, f\"{metric.capitalize()} is\", len(result))\n"
          ]
        },
        {
          "output_type": "display_data",
          "data": {
            "text/plain": [
              "<Figure size 1000x700 with 2 Axes>"
            ],
            "image/png": "[encoded data removed]"
          },
          "metadata": {}
        }
      ]
    },
    {
      "cell_type": "markdown",
      "source": [
        "#### ¿Por qué elegimos este modelo?"
      ],
      "metadata": {
        "id": "4jt6bBOVUNtY"
      }
    },
    {
      "cell_type": "markdown",
      "source": [
        "Las redes LSTM fueron seleccionadas como nuestro segundo modelo debido a su capacidad para capturar dependencias de largo plazo y contexto secuencial en el texto, algo que el modelo anterior de Regresión Logística no puede hacer. Mientras que TF-IDF trata el texto como una \"bolsa de palabras\" independientes, las LSTM procesan las palabras en secuencia, permitiendo que el modelo entienda cómo la aparición de una palabra al inicio del tweet puede influir en el significado de palabras posteriores. Esta característica es crucial para identificar matices emocionales que dependen del contexto y la estructura de la oración.\n",
        "\n",
        "**Parámetros clave:**\n",
        "\n",
        "`max_words=10000`: Limita el vocabulario a las 10,000 palabras más frecuentes.\n",
        "\n",
        "`max_len=50`: Establece la longitud máxima de secuencia. Casi todos los tweets caben en esta longitud después del preprocesamiento.\n",
        "\n",
        "`Embedding(128)`: Capa que aprende representaciones densas de las palabras.\n",
        "\n",
        "`LSTM(128)`: Capa recurrente con 128 unidades, con dropout para prevenir sobreajuste.\n",
        "\n",
        "`dropout=0.2`: Regularización que ayuda a prevenir sobreajuste."
      ],
      "metadata": {
        "id": "uSQ1DmG5UOvF"
      }
    },
    {
      "cell_type": "markdown",
      "source": [
        "#### Análisis de Resultados"
      ],
      "metadata": {
        "id": "EZf8mohSUXMr"
      }
    },
    {
      "cell_type": "markdown",
      "source": [
        "Los resultados del modelo LSTM muestran un comportamiento similar al modelo anterior, pero con algunas diferencias importantes:\n",
        "\n",
        "***Accuracy:***` 0.42 (42%)`. Igual que la Regresión Logística, lo que confirma la dificultad del problema.\n",
        "\n",
        "***Macro F1-Score:*** `0.12`. Ligeramente inferior al modelo anterior, indicando que la LSTM tuvo incluso más dificultades con las clases minoritarias.\n",
        "\n",
        "**Reporte por Clase:**\n",
        "\n",
        "***others:*** Mantiene el mejor desempeño` (F1: 0.61)`, similar al modelo anterior.\n",
        "\n",
        "***joy:*** Cayó a `F1=0.00`, un resultado peor que el modelo base.\n",
        "\n",
        "***Otras emociones:*** Resultados muy bajos o cero, similar al modelo anterior."
      ],
      "metadata": {
        "id": "3uQ4qP0cUYfc"
      }
    },
    {
      "cell_type": "markdown",
      "source": [
        "#### Análisis de la Matriz de Confusión"
      ],
      "metadata": {
        "id": "ZaJYOSl9UuLs"
      }
    },
    {
      "cell_type": "markdown",
      "source": [
        "La matriz de confusión revela el mismo patrón problemático pero más acentuado:\n",
        "\n",
        "1. ***Sesgo extremo hacia \"others\":*** La LSTM muestra una tendencia aún más fuerte a predecir la clase mayoritaria. Casi todas las predicciones convergen en others, independientemente de la emoción real.\n",
        "\n",
        "2. ***Colapso en clases minoritarias:*** El modelo prácticamente abandonó el intento de predecir joy, disgust, fear y surprise. Estas clases tienen conteos de predicción cercanos a cero.\n",
        "\n",
        "3. ***Sobreajuste aparente:*** Aunque el accuracy de validación se mantuvo estable `(~55%)`, el pobre desempeño en test sugiere que el modelo aprendió a optimizar para el conjunto de validación pero no generalizó bien.\n",
        "\n",
        "***Problemas identificados:***\n",
        "\n",
        "1. Desbalanceo extremo: La LSTM sufrió aún más con el desbalanceo de clases.\n",
        "\n",
        "2. Falta de regularización: Aunque usamos dropout, podría no ser suficiente.\n",
        "\n",
        "3. Dimensionalidad: 10,000 palabras podrían ser insuficientes para capturar el vocabulario emocional.\n",
        "\n",
        "4. Épocas de entrenamiento: 5 épocas podrían no ser suficientes para que la LSTM aprenda patrones complejos."
      ],
      "metadata": {
        "id": "EPQQbxBzUwbg"
      }
    },
    {
      "cell_type": "markdown",
      "source": [
        "La LSTM no superó al modelo baseline de Regresión Logística en este escenario específico. Esto destaca que arquitecturas más complejas no siempre son mejores, especialmente cuando hay desbalanceo de datos y el problema es particularmente difícil. El modelo sucumbió al sesgo hacia la clase mayoritaria y no logró aprovechar su capacidad para entender contexto secuencial, probablemente debido al desbalanceo extremo y al tamaño limitado del dataset para una red neuronal."
      ],
      "metadata": {
        "id": "3BR0swXfVFSi"
      }
    },
    {
      "cell_type": "markdown",
      "source": [
        "### Modelo 3: Fine-tuning BERT (HuggingFace Transformers)"
      ],
      "metadata": {
        "id": "RiV_PrqwpbK5"
      }
    },
    {
      "cell_type": "code",
      "source": [
        "!pip install torch transformers --quiet\n",
        "\n",
        "from transformers import BertTokenizer, BertForSequenceClassification\n",
        "import torch\n",
        "from torch.utils.data import DataLoader, TensorDataset\n",
        "from torch.optim import AdamW\n",
        "from tqdm import tqdm\n",
        "\n",
        "# Tokenizer BERT\n",
        "tokenizer_bert = BertTokenizer.from_pretrained(\"bert-base-multilingual-cased\")\n",
        "\n",
        "def encode_texts(texts, max_len=50):\n",
        "    return tokenizer_bert(\n",
        "        list(texts),\n",
        "        max_length=max_len,\n",
        "        padding=\"max_length\",\n",
        "        truncation=True,\n",
        "        return_tensors=\"pt\"\n",
        "    )\n",
        "\n",
        "train_enc = encode_texts(df_train[\"tweet_clean\"])\n",
        "dev_enc   = encode_texts(df_dev[\"tweet_clean\"])\n",
        "test_enc  = encode_texts(df_test[\"tweet_clean\"])\n",
        "\n",
        "# Labels\n",
        "y_train_enc = torch.tensor(le.fit_transform(df_train[\"emotion\"]))\n",
        "y_dev_enc   = torch.tensor(le.transform(df_dev[\"emotion\"]))\n",
        "y_test_enc  = torch.tensor(le.transform(df_test[\"emotion\"]))\n",
        "\n",
        "# Dataset y DataLoader\n",
        "train_dataset = TensorDataset(train_enc['input_ids'], train_enc['attention_mask'], y_train_enc)\n",
        "dev_dataset   = TensorDataset(dev_enc['input_ids'], dev_enc['attention_mask'], y_dev_enc)\n",
        "test_dataset  = TensorDataset(test_enc['input_ids'], test_enc['attention_mask'], y_test_enc)\n",
        "\n",
        "train_loader = DataLoader(train_dataset, batch_size=16, shuffle=True)\n",
        "dev_loader   = DataLoader(dev_dataset, batch_size=16)\n",
        "test_loader  = DataLoader(test_dataset, batch_size=16)\n",
        "\n",
        "# Modelo BERT\n",
        "device = torch.device(\"cuda\" if torch.cuda.is_available() else \"cpu\")\n",
        "model = BertForSequenceClassification.from_pretrained(\"bert-base-multilingual-cased\", num_labels=num_classes)\n",
        "model.to(device)\n",
        "\n",
        "optimizer = AdamW(model.parameters(), lr=3e-5)\n",
        "epochs = 2\n",
        "\n",
        "# Entrenamiento\n",
        "for epoch in range(epochs):\n",
        "    model.train()\n",
        "    total_loss = 0\n",
        "    for batch in tqdm(train_loader, desc=f\"Train Epoch {epoch+1}\"):\n",
        "        input_ids, attention_mask, labels = [x.to(device) for x in batch]\n",
        "        optimizer.zero_grad()\n",
        "        outputs = model(input_ids=input_ids, attention_mask=attention_mask, labels=labels)\n",
        "        loss = outputs.loss\n",
        "        loss.backward()\n",
        "        optimizer.step()\n",
        "        total_loss += loss.item()\n",
        "    print(f\"Epoch {epoch+1} - Loss promedio: {total_loss/len(train_loader):.4f}\")\n",
        "\n",
        "# Evaluación BERT\n",
        "model.eval()\n",
        "all_preds = []\n",
        "all_labels = []\n",
        "\n",
        "with torch.no_grad():\n",
        "    for batch in test_loader:\n",
        "        input_ids, attention_mask, labels = [x.to(device) for x in batch]\n",
        "        outputs = model(input_ids=input_ids, attention_mask=attention_mask)\n",
        "        preds = torch.argmax(outputs.logits, dim=1)\n",
        "        all_preds.extend(preds.cpu().numpy())\n",
        "        all_labels.extend(labels.cpu().numpy())\n",
        "\n",
        "acc_bert = accuracy_score(all_labels, all_preds)\n",
        "print(\"BERT - Accuracy:\", acc_bert)\n",
        "print(\"\\nReporte por clase (BERT):\\n\", classification_report(all_labels, all_preds, target_names=le.classes_))\n",
        "\n",
        "cm_bert = confusion_matrix(all_labels, all_preds)\n",
        "plt.figure(figsize=(10,7))\n",
        "sns.heatmap(cm_bert, annot=True, fmt='d', xticklabels=le.classes_, yticklabels=le.classes_, cmap=\"Reds\")\n",
        "plt.title(\"Matriz de confusión - BERT\")\n",
        "plt.xlabel(\"Predicción\")\n",
        "plt.ylabel(\"Etiqueta real\")\n",
        "plt.show()\n",
        "\n",
        "# ================================\n",
        "# 4️⃣ Análisis por evento (BERT)\n",
        "# ================================\n",
        "df_test_eval = df_test.copy()\n",
        "df_test_eval[\"pred_BERT\"] = le.inverse_transform(all_preds)\n",
        "\n",
        "# Accuracy por evento\n",
        "event_acc = df_test_eval.groupby(\"event\").apply(lambda x: (x[\"emotion\"]==x[\"pred_BERT\"]).mean()).sort_values(ascending=False)\n",
        "print(\"Top 10 eventos mejor predichos - BERT:\\n\", event_acc.head(10))\n",
        "\n",
        "plt.figure(figsize=(12,6))\n",
        "sns.barplot(x=event_acc.head(10).values, y=event_acc.head(10).index, palette=\"Reds_r\")\n",
        "plt.title(\"Top 10 eventos mejor predichos - BERT\")\n",
        "plt.xlabel(\"Accuracy\")\n",
        "plt.ylabel(\"Evento\")\n",
        "plt.show()"
      ],
      "metadata": {
        "colab": {
          "base_uri": "https://localhost:8080/"
        },
        "id": "3xYs0Gmrwn6Z",
        "outputId": "fd9ce2d2-989c-4bb2-b45e-fc2e0a1610b1"
      },
      "execution_count": null,
      "outputs": [
        {
          "output_type": "stream",
          "name": "stderr",
          "text": [
            "Some weights of BertForSequenceClassification were not initialized from the model checkpoint at bert-base-multilingual-cased and are newly initialized: ['classifier.bias', 'classifier.weight']\n",
            "You should probably TRAIN this model on a down-stream task to be able to use it for predictions and inference.\n",
            "Train Epoch 1: 100%|██████████| 358/358 [1:09:47<00:00, 11.70s/it]\n"
          ]
        },
        {
          "output_type": "stream",
          "name": "stdout",
          "text": [
            "Epoch 1 - Loss promedio: 1.2029\n"
          ]
        },
        {
          "output_type": "stream",
          "name": "stderr",
          "text": [
            "Train Epoch 2:  62%|██████▏   | 221/358 [44:33<25:25, 11.13s/it]"
          ]
        }
      ]
    },
    {
      "cell_type": "markdown",
      "source": [
        "#### ¿Por qué elegimos este modelo?"
      ],
      "metadata": {
        "id": "mFwEVQ_eVmHY"
      }
    },
    {
      "cell_type": "markdown",
      "source": [
        "BERT (Bidirectional Encoder Representations from Transformers) representa el estado del arte en el procesamiento de lenguaje natural. A diferencia de los modelos anteriores que procesan el texto de forma secuencial o como bag-of-words, BERT utiliza un mecanismo de atención bidireccional que le permite entender el contexto completo de cada palabra en relación con todas las demás palabras de la oración. Esto es particularmente valioso para capturar matices emocionales, sarcasmo y expresiones idiomáticas.\n",
        "\n",
        "Seleccionamos la versión \"bert-base-multilingual-cased\" porque:\n",
        "\n",
        "1. Está específicamente entrenado para manejar múltiples idiomas, incluido el español\n",
        "\n",
        "2. Preserva las mayúsculas y minúsculas (\"cased\"), lo que puede ser relevante para detectar énfasis emocional\n",
        "\n",
        "3. Ha sido pre-entrenado con grandes volúmenes de texto, por lo que viene con un entendimiento profundo del lenguaje"
      ],
      "metadata": {
        "id": "kUwL2PeAVntO"
      }
    },
    {
      "cell_type": "markdown",
      "source": [
        "#### Análisis de Resultados"
      ],
      "metadata": {
        "id": "qAJrrHhoV7MT"
      }
    },
    {
      "cell_type": "markdown",
      "source": [
        "#### Análisis de la Matriz de confusión"
      ],
      "metadata": {
        "id": "tYvltCfCV9pE"
      }
    },
    {
      "cell_type": "markdown",
      "source": [
        "## Cuadro comparativo de los 3 modelos"
      ],
      "metadata": {
        "id": "wxAI2hf-xo9x"
      }
    },
    {
      "cell_type": "code",
      "source": [
        "import pandas as pd\n",
        "from sklearn.metrics import f1_score\n",
        "\n",
        "# ---------------------------\n",
        "# 1️⃣ Accuracy global\n",
        "# ---------------------------\n",
        "accuracies = {\n",
        "    \"Model\": [\"Logistic Regression\", \"LSTM\", \"BERT\"],\n",
        "    \"Accuracy\": [acc_lr, acc_lstm, acc_bert]\n",
        "}\n",
        "\n",
        "# ---------------------------\n",
        "# 2️⃣ F1-score macro\n",
        "# ---------------------------\n",
        "f1_macro = {\n",
        "    \"Model\": [\"Logistic Regression\", \"LSTM\", \"BERT\"],\n",
        "    \"F1 Macro\": [\n",
        "        f1_score(y_test, y_pred_lr, average=\"macro\"),\n",
        "        f1_score(y_test, y_pred_lstm_labels, average=\"macro\"),\n",
        "        f1_score(all_labels, all_preds, average=\"macro\")\n",
        "    ]\n",
        "}\n",
        "\n",
        "# ---------------------------\n",
        "# 3️⃣ F1-score por clase\n",
        "# ---------------------------\n",
        "def f1_por_clase(y_true, y_pred, classes):\n",
        "    report = classification_report(y_true, y_pred, output_dict=True, zero_division=0)\n",
        "    return [report[c][\"f1-score\"] for c in classes]\n",
        "\n",
        "classes = sorted(df_train[\"emotion\"].unique())\n",
        "\n",
        "f1_classes = pd.DataFrame({\n",
        "    \"Emotion\": classes,\n",
        "    \"Logistic Regression\": f1_por_clase(y_test, y_pred_lr, classes),\n",
        "    \"LSTM\": f1_por_clase(y_test, y_pred_lstm_labels, classes),\n",
        "    \"BERT\": f1_por_clase(all_labels, all_preds, classes)\n",
        "})\n",
        "\n",
        "# ---------------------------\n",
        "# Mostrar resultados\n",
        "# ---------------------------\n",
        "acc_df = pd.DataFrame(accuracies)\n",
        "f1_macro_df = pd.DataFrame(f1_macro)\n",
        "\n",
        "print(\"=== Accuracy global ===\")\n",
        "display(acc_df)\n",
        "\n",
        "print(\"\\n=== F1-score macro ===\")\n",
        "display(f1_macro_df)\n",
        "\n",
        "print(\"\\n=== F1-score por emoción ===\")\n",
        "display(f1_classes)\n",
        "\n",
        "# Gráficos comparativos (opcional)\n",
        "plt.figure(figsize=(12,6))\n",
        "sns.barplot(x=\"Model\", y=\"Accuracy\", data=acc_df, palette=\"viridis\")\n",
        "plt.title(\"Comparación de Accuracy global\")\n",
        "plt.show()\n",
        "\n",
        "plt.figure(figsize=(14,6))\n",
        "f1_classes_melted = f1_classes.melt(id_vars=\"Emotion\", var_name=\"Model\", value_name=\"F1-score\")\n",
        "sns.barplot(x=\"Emotion\", y=\"F1-score\", hue=\"Model\", data=f1_classes_melted)\n",
        "plt.title(\"F1-score por emoción para cada modelo\")\n",
        "plt.xticks(rotation=45)\n",
        "plt.show()\n"
      ],
      "metadata": {
        "id": "svVF7kdVxw-5"
      },
      "execution_count": null,
      "outputs": []
    },
    {
      "cell_type": "markdown",
      "source": [
        "## Análisis por emoción y por evento"
      ],
      "metadata": {
        "id": "j0M6JOHnx5Xh"
      }
    },
    {
      "cell_type": "code",
      "source": [
        "import matplotlib.pyplot as plt\n",
        "import seaborn as sns\n",
        "from sklearn.metrics import confusion_matrix\n",
        "\n",
        "# ---------------------------\n",
        "# Función para mostrar matriz de confusión\n",
        "# ---------------------------\n",
        "def plot_confusion(y_true, y_pred, classes, title=\"Confusion Matrix\"):\n",
        "    cm = confusion_matrix(y_true, y_pred, labels=classes)\n",
        "    plt.figure(figsize=(10,8))\n",
        "    sns.heatmap(cm, annot=True, fmt='d', cmap=\"Blues\", xticklabels=classes, yticklabels=classes)\n",
        "    plt.xlabel(\"Predicted\")\n",
        "    plt.ylabel(\"True\")\n",
        "    plt.title(title)\n",
        "    plt.show()\n",
        "\n",
        "# ---------------------------\n",
        "# Matrices de confusión por modelo\n",
        "# ---------------------------\n",
        "classes = sorted(df_train[\"emotion\"].unique())\n",
        "\n",
        "print(\"=== Logistic Regression ===\")\n",
        "plot_confusion(y_test, y_pred_lr, classes, title=\"Confusion Matrix - Logistic Regression\")\n",
        "\n",
        "print(\"=== LSTM ===\")\n",
        "plot_confusion(y_test, y_pred_lstm_labels, classes, title=\"Confusion Matrix - LSTM\")\n",
        "\n",
        "print(\"=== BERT ===\")\n",
        "plot_confusion(all_labels, all_preds, classes, title=\"Confusion Matrix - BERT\")\n",
        "\n",
        "# ---------------------------\n",
        "# Análisis por evento\n",
        "# ---------------------------\n",
        "# Crear un DataFrame con verdad y predicción para cada modelo\n",
        "df_event_analysis = df_test[[\"event\", \"emotion\"]].copy()\n",
        "df_event_analysis[\"LR_pred\"]   = y_pred_lr\n",
        "df_event_analysis[\"LSTM_pred\"] = y_pred_lstm_labels\n",
        "df_event_analysis[\"BERT_pred\"] = all_preds\n",
        "\n",
        "# Calcular Accuracy por evento para cada modelo\n",
        "accuracy_event = df_event_analysis.groupby(\"event\").apply(\n",
        "    lambda x: pd.Series({\n",
        "        \"LR_acc\": (x[\"LR_pred\"] == x[\"emotion\"]).mean(),\n",
        "        \"LSTM_acc\": (x[\"LSTM_pred\"] == x[\"emotion\"]).mean(),\n",
        "        \"BERT_acc\": (x[\"BERT_pred\"] == x[\"emotion\"]).mean(),\n",
        "        \"count\": len(x)\n",
        "    })\n",
        ").sort_values(\"count\", ascending=False)\n",
        "\n",
        "# Mostrar top 10 eventos más frecuentes con su accuracy\n",
        "display(accuracy_event.head(10))\n",
        "\n",
        "# Gráfico de desempeño por evento\n",
        "accuracy_event_top = accuracy_event.head(10).reset_index()\n",
        "plt.figure(figsize=(12,6))\n",
        "sns.barplot(x=\"event\", y=\"LR_acc\", data=accuracy_event_top, color=\"skyblue\", label=\"Logistic Regression\")\n",
        "sns.barplot(x=\"event\", y=\"LSTM_acc\", data=accuracy_event_top, color=\"orange\", alpha=0.6, label=\"LSTM\")\n",
        "sns.barplot(x=\"event\", y=\"BERT_acc\", data=accuracy_event_top, color=\"green\", alpha=0.5, label=\"BERT\")\n",
        "plt.ylabel(\"Accuracy\")\n",
        "plt.xticks(rotation=45)\n",
        "plt.title(\"Accuracy por evento - Top 10 eventos\")\n",
        "plt.legend()\n",
        "plt.show()\n"
      ],
      "metadata": {
        "id": "ZYww7qJJx5HT"
      },
      "execution_count": null,
      "outputs": []
    }
  ]
}